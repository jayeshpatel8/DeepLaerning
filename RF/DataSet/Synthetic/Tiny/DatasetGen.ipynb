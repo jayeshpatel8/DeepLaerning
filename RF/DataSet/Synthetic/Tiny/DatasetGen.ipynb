{
 "cells": [
  {
   "cell_type": "code",
   "execution_count": null,
   "metadata": {},
   "outputs": [],
   "source": []
  },
  {
   "cell_type": "code",
   "execution_count": 1,
   "metadata": {
    "scrolled": false
   },
   "outputs": [
    {
     "name": "stderr",
     "output_type": "stream",
     "text": [
      "Mapper warning: Could not load the module “fastcluster”.\n",
      "The module “scipy.cluster.hierarchy“ is used instead, but it will be slower.\n",
      "The 'cmappertools' module could not be imported.\n",
      "The 'cmappertools' module could not be imported.\n",
      "Intrinsic metric is not available.\n",
      "The 'cmappertools' module could not be imported.\n"
     ]
    },
    {
     "name": "stdout",
     "output_type": "stream",
     "text": [
      "{'discrete': [<class 'transmitters.transmitter_gfsk'>, <class 'transmitters.transmitter_cpfsk'>]}\n"
     ]
    }
   ],
   "source": [
    "\n",
    "from transmitters import transmitters\n",
    "from source_alphabet import source_alphabet\n",
    "import timeseries_slicer\n",
    "import analyze_stats\n",
    "from gnuradio import channels, gr, blocks\n",
    "import numpy as np\n",
    "import numpy.fft, gzip\n",
    "import _pickle as cPickle\n",
    "print(transmitters)"
   ]
  },
  {
   "cell_type": "code",
   "execution_count": null,
   "metadata": {
    "scrolled": true
   },
   "outputs": [],
   "source": []
  },
  {
   "cell_type": "code",
   "execution_count": 2,
   "metadata": {},
   "outputs": [
    {
     "name": "stdout",
     "output_type": "stream",
     "text": [
      "discrete\n",
      "running test 0 <class 'transmitters.transmitter_gfsk'>\n",
      "100.0\n",
      "running test 1 <class 'transmitters.transmitter_cpfsk'>\n",
      "100.0\n",
      "discrete\n",
      "running test 0 <class 'transmitters.transmitter_gfsk'>\n",
      "63.09573444801933\n",
      "running test 1 <class 'transmitters.transmitter_cpfsk'>\n",
      "63.09573444801933\n",
      "discrete\n",
      "running test 0 <class 'transmitters.transmitter_gfsk'>\n",
      "39.810717055349734\n",
      "running test 1 <class 'transmitters.transmitter_cpfsk'>\n",
      "39.810717055349734\n",
      "discrete\n",
      "running test 0 <class 'transmitters.transmitter_gfsk'>\n",
      "25.118864315095795\n",
      "running test 1 <class 'transmitters.transmitter_cpfsk'>\n",
      "25.118864315095795\n",
      "discrete\n",
      "running test 0 <class 'transmitters.transmitter_gfsk'>\n",
      "15.848931924611133\n",
      "running test 1 <class 'transmitters.transmitter_cpfsk'>\n",
      "15.848931924611133\n",
      "discrete\n",
      "running test 0 <class 'transmitters.transmitter_gfsk'>\n",
      "10.0\n",
      "running test 1 <class 'transmitters.transmitter_cpfsk'>\n",
      "10.0\n",
      "discrete\n",
      "running test 0 <class 'transmitters.transmitter_gfsk'>\n",
      "6.309573444801933\n",
      "running test 1 <class 'transmitters.transmitter_cpfsk'>\n",
      "6.309573444801933\n",
      "discrete\n",
      "running test 0 <class 'transmitters.transmitter_gfsk'>\n",
      "3.9810717055349722\n",
      "running test 1 <class 'transmitters.transmitter_cpfsk'>\n",
      "3.9810717055349722\n",
      "discrete\n",
      "running test 0 <class 'transmitters.transmitter_gfsk'>\n",
      "2.51188643150958\n",
      "running test 1 <class 'transmitters.transmitter_cpfsk'>\n",
      "2.51188643150958\n",
      "discrete\n",
      "running test 0 <class 'transmitters.transmitter_gfsk'>\n",
      "1.5848931924611136\n",
      "running test 1 <class 'transmitters.transmitter_cpfsk'>\n",
      "1.5848931924611136\n",
      "discrete\n",
      "running test 0 <class 'transmitters.transmitter_gfsk'>\n",
      "1.0\n",
      "running test 1 <class 'transmitters.transmitter_cpfsk'>\n",
      "1.0\n",
      "discrete\n",
      "running test 0 <class 'transmitters.transmitter_gfsk'>\n",
      "0.6309573444801932\n",
      "running test 1 <class 'transmitters.transmitter_cpfsk'>\n",
      "0.6309573444801932\n",
      "discrete\n",
      "running test 0 <class 'transmitters.transmitter_gfsk'>\n",
      "0.3981071705534972\n",
      "running test 1 <class 'transmitters.transmitter_cpfsk'>\n",
      "0.3981071705534972\n",
      "discrete\n",
      "running test 0 <class 'transmitters.transmitter_gfsk'>\n",
      "0.251188643150958\n",
      "running test 1 <class 'transmitters.transmitter_cpfsk'>\n",
      "0.251188643150958\n",
      "discrete\n",
      "running test 0 <class 'transmitters.transmitter_gfsk'>\n",
      "0.15848931924611134\n",
      "running test 1 <class 'transmitters.transmitter_cpfsk'>\n",
      "0.15848931924611134\n",
      "discrete\n",
      "running test 0 <class 'transmitters.transmitter_gfsk'>\n",
      "0.1\n",
      "running test 1 <class 'transmitters.transmitter_cpfsk'>\n",
      "0.1\n",
      "discrete\n",
      "running test 0 <class 'transmitters.transmitter_gfsk'>\n",
      "0.06309573444801933\n",
      "running test 1 <class 'transmitters.transmitter_cpfsk'>\n",
      "0.06309573444801933\n",
      "discrete\n",
      "running test 0 <class 'transmitters.transmitter_gfsk'>\n",
      "0.039810717055349734\n",
      "running test 1 <class 'transmitters.transmitter_cpfsk'>\n",
      "0.039810717055349734\n",
      "discrete\n",
      "running test 0 <class 'transmitters.transmitter_gfsk'>\n",
      "0.025118864315095794\n",
      "running test 1 <class 'transmitters.transmitter_cpfsk'>\n",
      "0.025118864315095794\n",
      "discrete\n",
      "running test 0 <class 'transmitters.transmitter_gfsk'>\n",
      "0.015848931924611134\n",
      "running test 1 <class 'transmitters.transmitter_cpfsk'>\n",
      "0.015848931924611134\n",
      "min length mod is <class 'transmitters.transmitter_gfsk'> with 79992 samples\n"
     ]
    },
    {
     "name": "stderr",
     "output_type": "stream",
     "text": [
      "C:\\Users\\jnpatel\\AppData\\Local\\Continuum\\anaconda3\\envs\\gnuradio\\lib\\site-packages\\ipykernel_launcher.py:58: FutureWarning: arrays to stack must be passed as a \"sequence\" type such as list or tuple. Support for non-sequence iterables such as generators is deprecated as of NumPy 1.16 and will raise an error in the future.\n"
     ]
    }
   ],
   "source": [
    "'''\n",
    "Generate dataset with dynamic channel model across range of SNRs\n",
    "'''\n",
    "\n",
    "apply_channel = True\n",
    "output = {}\n",
    "min_length = 9e9\n",
    "snr_vals = range(-20,20,2)\n",
    "for snr in snr_vals:\n",
    "    for alphabet_type in transmitters.keys():\n",
    "        print (alphabet_type)\n",
    "        for i,mod_type in enumerate(transmitters[alphabet_type]):\n",
    "            print (\"running test\", i,mod_type)\n",
    "\n",
    "            tx_len = int(10e3)\n",
    "            if mod_type.modname == \"QAM64\":\n",
    "                tx_len = int(30e3)\n",
    "            if mod_type.modname == \"QAM16\":\n",
    "                tx_len = int(20e3)\n",
    "            src = source_alphabet(alphabet_type, tx_len, True)\n",
    "            mod = mod_type()\n",
    "            fD = 1\n",
    "            delays = [0.0, 0.9, 1.7]\n",
    "            mags = [1, 0.8, 0.3]\n",
    "            ntaps = 8\n",
    "            noise_amp = 10**(-snr/10.0)\n",
    "            print (noise_amp)\n",
    "            #noise_amp = 0.1\n",
    "            chan = channels.dynamic_channel_model( 200e3, 0.01, 1e2, 0.01, 1e3, 8, fD, True, 4, delays, mags, ntaps, noise_amp, 0x1337 )\n",
    "\n",
    "            snk = blocks.vector_sink_c()\n",
    "\n",
    "            tb = gr.top_block()\n",
    "\n",
    "            # connect blocks\n",
    "            if apply_channel:\n",
    "                tb.connect(src, mod, chan, snk)\n",
    "            else:\n",
    "                tb.connect(src, mod, snk)\n",
    "            tb.run()\n",
    "\n",
    "            modulated_vector = np.array(snk.data(), dtype=np.complex64)\n",
    "            if len(snk.data()) < min_length:\n",
    "                min_length = len(snk.data())\n",
    "                min_length_mod = mod_type\n",
    "            output[(mod_type.modname, snr)] = modulated_vector\n",
    "\n",
    "print (\"min length mod is %s with %i samples\" % (min_length_mod, min_length))\n",
    "# trim the beginning and ends, and make all mods have equal number of samples\n",
    "start_indx = 100\n",
    "fin_indx = min_length-100\n",
    "for mod, snr in output:\n",
    " output[(mod,snr)] = output[(mod,snr)][start_indx:fin_indx]\n",
    "X = timeseries_slicer.slice_timeseries_dict(output, 128, 64, 1000)\n",
    "file = open(\"RML2014.04c_dict.pkl\", \"wb\" )\n",
    "cPickle.dump( X, file )\n",
    "file.close()\n",
    "X = np.vstack(X.values())\n",
    "file = open(\"RML2016.04c.pkl\", \"wb\" )\n",
    "cPickle.dump( X, file )\n",
    "file.close()"
   ]
  },
  {
   "cell_type": "code",
   "execution_count": 3,
   "metadata": {},
   "outputs": [
    {
     "name": "stdout",
     "output_type": "stream",
     "text": [
      "<_io.BufferedWriter name='smallerfile.pkl'>\n"
     ]
    }
   ],
   "source": [
    "dogs_dict = { 'Ozzy': 3, 'Filou': 8, 'Luna': 5, 'Skippy': 10, 'Barco': 12, 'Balou': 9, 'Laika': 16 }\n",
    "sfile = open('smallerfile.pkl', 'wb')\n",
    "cPickle.dump(dogs_dict, sfile)\n",
    "sfile.close()\n",
    "print(sfile)\n"
   ]
  },
  {
   "cell_type": "code",
   "execution_count": null,
   "metadata": {
    "scrolled": true
   },
   "outputs": [],
   "source": []
  },
  {
   "cell_type": "code",
   "execution_count": null,
   "metadata": {},
   "outputs": [],
   "source": []
  }
 ],
 "metadata": {
  "kernelspec": {
   "display_name": "Python 3",
   "language": "python",
   "name": "python3"
  },
  "language_info": {
   "codemirror_mode": {
    "name": "ipython",
    "version": 3
   },
   "file_extension": ".py",
   "mimetype": "text/x-python",
   "name": "python",
   "nbconvert_exporter": "python",
   "pygments_lexer": "ipython3",
   "version": "3.6.7"
  }
 },
 "nbformat": 4,
 "nbformat_minor": 2
}
